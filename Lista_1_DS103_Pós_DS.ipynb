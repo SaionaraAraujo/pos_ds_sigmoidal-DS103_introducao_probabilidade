{
  "nbformat": 4,
  "nbformat_minor": 0,
  "metadata": {
    "colab": {
      "provenance": [],
      "authorship_tag": "ABX9TyNDIqLmg9a6P8m7SPxqZJtS",
      "include_colab_link": true
    },
    "kernelspec": {
      "name": "python3",
      "display_name": "Python 3"
    },
    "language_info": {
      "name": "python"
    }
  },
  "cells": [
    {
      "cell_type": "markdown",
      "metadata": {
        "id": "view-in-github",
        "colab_type": "text"
      },
      "source": [
        "<a href=\"https://colab.research.google.com/github/SaionaraAraujo/pos_ds_sigmoidal-DS103_introducao_probabilidade/blob/main/Lista_1_DS103_P%C3%B3s_DS.ipynb\" target=\"_parent\"><img src=\"https://colab.research.google.com/assets/colab-badge.svg\" alt=\"Open In Colab\"/></a>"
      ]
    },
    {
      "cell_type": "markdown",
      "source": [
        "# Questão 1:\n"
      ],
      "metadata": {
        "id": "BLP44BLIXMCT"
      }
    },
    {
      "cell_type": "markdown",
      "source": [
        "O que há de errado nas seguintes afirmativas?\n",
        "* As probabilidades de que um vendedor de automóveis venderá 0, 1, 2 ou 3 carros em um dia qualquer de fevereiro são, respectivamente, 0,19; 0,38; 0,29; e, 0,15.\n",
        "* A probabilidade de chover amanhã é 0,40 e de não chover amanhã é 0,52.\n",
        "*  As probabilidades de uma impressora cometer 0, 1, 2, 3, ou 4 ou mais erros ao ajustar um documento são, respectivamente: 0,19; 0,34; -0,25; 0,43; e, 0,29."
      ],
      "metadata": {
        "id": "SGjh2GQNWvtx"
      }
    },
    {
      "cell_type": "markdown",
      "source": [
        "Na primeira afirmativa as probabilidades somam mais que 1:"
      ],
      "metadata": {
        "id": "Wu5i-nxvXPQG"
      }
    },
    {
      "cell_type": "code",
      "source": [
        "print(0.19+0.38+0.29+0.15)\n"
      ],
      "metadata": {
        "colab": {
          "base_uri": "https://localhost:8080/",
          "height": 0
        },
        "id": "BRySVMe0Y_dF",
        "outputId": "6ba6b893-b02e-4af1-ca46-b84cb8bd693b"
      },
      "execution_count": 171,
      "outputs": [
        {
          "output_type": "stream",
          "name": "stdout",
          "text": [
            "1.01\n"
          ]
        }
      ]
    },
    {
      "cell_type": "markdown",
      "source": [
        "Na segunda afirmativa as probabilidades não somam 1:"
      ],
      "metadata": {
        "id": "AA2B4t_5Zqu-"
      }
    },
    {
      "cell_type": "code",
      "source": [
        "print(0.40+0.52)"
      ],
      "metadata": {
        "colab": {
          "base_uri": "https://localhost:8080/",
          "height": 0
        },
        "id": "qPY0Aq-mZyYH",
        "outputId": "d40b2080-0635-4b65-8d7e-315b77027148"
      },
      "execution_count": 172,
      "outputs": [
        {
          "output_type": "stream",
          "name": "stdout",
          "text": [
            "0.92\n"
          ]
        }
      ]
    },
    {
      "cell_type": "markdown",
      "source": [
        "Na terceira, há probabilidades negativas, o que não é possíve, já que o intervalo de probabilidade está entre 0 e 1"
      ],
      "metadata": {
        "id": "PPMYK5vnZ5Jb"
      }
    },
    {
      "cell_type": "markdown",
      "source": [
        "# Questão 2"
      ],
      "metadata": {
        "id": "I9zV_IruaNEk"
      }
    },
    {
      "cell_type": "markdown",
      "source": [
        "Dado um certo componente eletrônico, seja A o evento em que o componente falha em um determinado teste; e, B, o evento em que o componente não falha, mas apresenta mal-funcionamento.\n",
        "O evento A ocorre com probabilidade 0,20 e o evento B ocorre com probabilidade 0,35.\n",
        "\n",
        "* a)  Qual a probabilidade de que o componente não falhe?\n",
        "* b)  Qual a probabilidade de que o componente funcione perfeitamente?\n",
        "* c) Qual a probabilidade de que o componente falhe ou apresente mal-funcionamento?\n",
        "\n"
      ],
      "metadata": {
        "id": "NtSL6tXEaVvN"
      }
    },
    {
      "cell_type": "code",
      "source": [
        "#a\n",
        "print((1-0.20)*100)\n"
      ],
      "metadata": {
        "colab": {
          "base_uri": "https://localhost:8080/",
          "height": 0
        },
        "id": "YPI0tIz_arnS",
        "outputId": "eee0171d-6adc-4f22-b1aa-d46b74638664"
      },
      "execution_count": 173,
      "outputs": [
        {
          "output_type": "stream",
          "name": "stdout",
          "text": [
            "80.0\n"
          ]
        }
      ]
    },
    {
      "cell_type": "code",
      "source": [
        "#b\n",
        "print((1-(0.20+0.35))*100)"
      ],
      "metadata": {
        "colab": {
          "base_uri": "https://localhost:8080/",
          "height": 0
        },
        "id": "zE_bZwZfbKxK",
        "outputId": "c5084dc3-294c-4e58-b4ec-a960f654a075"
      },
      "execution_count": 174,
      "outputs": [
        {
          "output_type": "stream",
          "name": "stdout",
          "text": [
            "44.99999999999999\n"
          ]
        }
      ]
    },
    {
      "cell_type": "code",
      "source": [
        "#c\n",
        "print((0.20+0.35)*100)"
      ],
      "metadata": {
        "colab": {
          "base_uri": "https://localhost:8080/",
          "height": 0
        },
        "id": "Psy4hmK3bezu",
        "outputId": "644b45ec-013d-4034-d21b-48ef4944bd59"
      },
      "execution_count": 175,
      "outputs": [
        {
          "output_type": "stream",
          "name": "stdout",
          "text": [
            "55.00000000000001\n"
          ]
        }
      ]
    },
    {
      "cell_type": "markdown",
      "source": [
        "#Questão 3"
      ],
      "metadata": {
        "id": "IMdFM4Bja9W_"
      }
    },
    {
      "cell_type": "markdown",
      "source": [
        "Em uma prova de múltipla escolha, há 6 questões para serem resolvidas, sendo que, para cada questão, há 5 alternativas, sendo apenas uma delas correta. Naturalmente, quando o aluno não sabe resolver a questão, ele “chuta”, de forma aleatóoria, qualquer uma das opções apresentadas. Admita que nesta turma de 100 alunos: há 35 deles que são muito bons e que sabem bem o conteúdo da disciplina; há ainda 50 alunos medianos; e, 15 alunos fracos de\n",
        "conteúdo. Considerando que um aluno muito bom tem 85% de chance de acertar uma questão, um mediano tem 50% e os fracos acertam no nível do ”chute”, determine:\n",
        "* (a) Qual será a probabilidade de um aluno qualquer da turma acertar uma questão? R. 0,5775\n",
        "* (b) Qual será a probabilidade de um aluno qualquer acertar exatamente 50% da prova? R.0,1830"
      ],
      "metadata": {
        "id": "39a8wWdtbuGS"
      }
    },
    {
      "cell_type": "code",
      "source": [
        "#a\n",
        "#probabilidade dos bons 0,85\n",
        "#probabilidade dos medianos 0,5\n",
        "#probabilidade dos ruin 0,2\n",
        "bons = 0.85\n",
        "medianos = 0.5\n",
        "ruins = 0.2\n",
        "r = ((0.85*35)+(0.5*50)+(0.2*15))/100\n",
        "print(r)"
      ],
      "metadata": {
        "colab": {
          "base_uri": "https://localhost:8080/",
          "height": 0
        },
        "id": "vrmFUaoac-9s",
        "outputId": "cdb08722-fe7c-45f1-f582-78c3156fd841"
      },
      "execution_count": 176,
      "outputs": [
        {
          "output_type": "stream",
          "name": "stdout",
          "text": [
            "0.5775\n"
          ]
        }
      ]
    },
    {
      "cell_type": "code",
      "source": [
        "# prompt: como saber a probabilidade de um aluno acertar 50% da prova considerando a questão anterior, sem usar função binomial\n",
        "\n",
        "# Probabilidade de um aluno bom acertar 3 questoes (50% da prova)\n",
        "bom_acerta_metade = (0.85**3)*(0.15**3)\n",
        "\n",
        "# Probabilidade de um aluno mediano acertar 3 questoes (50% da prova)\n",
        "mediano_acerta_metade = (0.5**3)*(0.5**3)\n",
        "\n",
        "# Probabilidade de um aluno ruim acertar 3 questoes (50% da prova)\n",
        "ruim_acerta_metade = (0.2**3)*(0.8**3)\n",
        "\n",
        "# Probabilidade de qualquer aluno acertar metade da prova, ponderada pela quantidade de cada tipo de aluno\n",
        "acertar_metade = (35/100)*bom_acerta_metade + (50/100)*mediano_acerta_metade + (15/100)*ruim_acerta_metade\n",
        "\n",
        "# Número de maneiras de escolher 3 questões para acertar dentre 6\n",
        "combinacoes = 20 # (6!)/(3!3!)\n",
        "\n",
        "# Probabilidade final de um aluno qualquer acertar 50% da prova\n",
        "probabilidade_final = combinacoes * acertar_metade\n",
        "print(probabilidade_final)\n"
      ],
      "metadata": {
        "colab": {
          "base_uri": "https://localhost:8080/",
          "height": 0
        },
        "id": "7Jour40ofVgS",
        "outputId": "f1457c9b-f4bf-4df6-8f93-16c3d3776db0"
      },
      "execution_count": 177,
      "outputs": [
        {
          "output_type": "stream",
          "name": "stdout",
          "text": [
            "0.183046703125\n"
          ]
        }
      ]
    },
    {
      "cell_type": "markdown",
      "source": [
        "#Quesão 4"
      ],
      "metadata": {
        "id": "_p3uEkxSgE6v"
      }
    },
    {
      "cell_type": "markdown",
      "source": [
        "Um sistema elétrico consiste de quatro componentes, conforme ilustrado na figura abaixo.\n",
        "\n",
        "![image.png](data:image/png;base64,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)\n",
        "Os componentes funcionam independentemente e o sistema não apresenta falha se A e B funcionarem e se pelo menos um dentre C ou D funcionarem. A confiabilidade (probabilidade de apresentar funcionamento perfeito) de cada componente é dada no diagrama.\n",
        "Determine as probabilidades de:\n",
        "* (a) o sistema funcionar corretamente. R. 0,7776\n",
        "* (b) o componente C ter falhado, dado que o sistema como um todo funciona. R. 0,1666\n",
        "* (c) resolver ambos os itens usando Simula ̧c ̃ao Monte Carlo."
      ],
      "metadata": {
        "id": "ctcw3dB8gIBF"
      }
    },
    {
      "cell_type": "markdown",
      "source": [],
      "metadata": {
        "id": "3re8AlLigq3N"
      }
    },
    {
      "cell_type": "code",
      "source": [
        "#a\n",
        "a=0.9\n",
        "b=0.9\n",
        "c=0.8\n",
        "d=0.8\n",
        "sis=a*b*(1 - ((1-c)*(1-d)))\n",
        "print(sis)"
      ],
      "metadata": {
        "colab": {
          "base_uri": "https://localhost:8080/",
          "height": 0
        },
        "id": "edtW-NEugTYz",
        "outputId": "3e38da60-65c5-41ec-ef28-53f4f69f82fd"
      },
      "execution_count": 178,
      "outputs": [
        {
          "output_type": "stream",
          "name": "stdout",
          "text": [
            "0.7776000000000001\n"
          ]
        }
      ]
    },
    {
      "cell_type": "code",
      "source": [
        "#b\n",
        "# prompt: temos as probabilidade de funcionar, mas como saber a probabilidade de c ter falhado e o sistema funcionado?\n",
        "\n",
        "# Probabilidade de C ter falhado: 1 - c\n",
        "prob_c_falha = 1 - c\n",
        "\n",
        "# Probabilidade do sistema funcionar dado que C falhou: a * b * (1 - d)\n",
        "prob_funciona_dado_c_falha = a * b * (1 - d)\n",
        "\n",
        "# Probabilidade de C ter falhado E o sistema funcionar:\n",
        "# (Probabilidade de C falhar) * (Probabilidade do sistema funcionar dado que C falhou)\n",
        "prob_c_falha_e_sistema_funciona = prob_c_falha * prob_funciona_dado_c_falha\n",
        "\n",
        "print(prob_c_falha_e_sistema_funciona)\n"
      ],
      "metadata": {
        "colab": {
          "base_uri": "https://localhost:8080/",
          "height": 0
        },
        "id": "6N9R4HZujZa_",
        "outputId": "b7fd109a-cbb9-400b-e516-0aeb828aed07"
      },
      "execution_count": 179,
      "outputs": [
        {
          "output_type": "stream",
          "name": "stdout",
          "text": [
            "0.03239999999999999\n"
          ]
        }
      ]
    },
    {
      "cell_type": "code",
      "source": [
        "c_falha = 1-c\n",
        "sistema_funciona = a*b*(1 - ((1-c)*(d)))\n",
        "print(sistema_funciona)"
      ],
      "metadata": {
        "colab": {
          "base_uri": "https://localhost:8080/",
          "height": 0
        },
        "id": "P2Dv0bjXkoRo",
        "outputId": "75ee7b31-1df6-40a2-c36d-9d501f7d60fe"
      },
      "execution_count": 180,
      "outputs": [
        {
          "output_type": "stream",
          "name": "stdout",
          "text": [
            "0.6804000000000001\n"
          ]
        }
      ]
    },
    {
      "cell_type": "markdown",
      "source": [
        "## (c)"
      ],
      "metadata": {
        "id": "wesRCTFMchip"
      }
    },
    {
      "cell_type": "markdown",
      "source": [
        "### a com monte carlo"
      ],
      "metadata": {
        "id": "spX6w3WlcnXQ"
      }
    },
    {
      "cell_type": "code",
      "source": [
        "#c\n",
        "import random\n",
        "\n",
        "# Número de simulações\n",
        "num_simulacoes = 10**5\n",
        "\n",
        "# Contadores para sucesso\n",
        "sucesso = 0\n",
        "\n",
        "# Simulação de Monte Carlo\n",
        "for _ in range(num_simulacoes):\n",
        "  # Probabilidades de cada cenário\n",
        "    a_funciona = random.random() < a\n",
        "    b_funciona = random.random() < b\n",
        "    c_funciona = random.random() < c\n",
        "    d_funciona = random.random() < d\n",
        "\n",
        "  # Contagem de sucesso para a afirmação\n",
        "    if (a_funciona and b_funciona and (c_funciona or d_funciona)):\n",
        "      sucesso += 1\n",
        "# Calcula a probabilidade estimada\n",
        "probabilidade_estimada = sucesso/ num_simulacoes\n",
        "\n",
        "print(probabilidade_estimada)"
      ],
      "metadata": {
        "id": "XHqcvkz4M-p9",
        "colab": {
          "base_uri": "https://localhost:8080/",
          "height": 0
        },
        "outputId": "78f8344e-b11d-43d0-861a-ecf94ebf0a21"
      },
      "execution_count": 181,
      "outputs": [
        {
          "output_type": "stream",
          "name": "stdout",
          "text": [
            "0.77969\n"
          ]
        }
      ]
    },
    {
      "cell_type": "markdown",
      "source": [
        "### b com monte carlo"
      ],
      "metadata": {
        "id": "1y_5Echecqd7"
      }
    },
    {
      "cell_type": "code",
      "source": [
        "# Número de simulações\n",
        "num_simulacoes = 10**5\n",
        "\n",
        "# Contadores para sucesso\n",
        "sucesso = 0\n",
        "\n",
        "# Simulação de Monte Carlo\n",
        "for _ in range(num_simulacoes):\n",
        "    a_funciona = random.random() < a\n",
        "    b_funciona = random.random() < b\n",
        "    c_funciona = random.random() < c\n",
        "    d_funciona = random.random() < d\n",
        "\n",
        "    # Contagem de sucesso para a afirmação (b)\n",
        "    if not c_funciona and a_funciona and b_funciona and d_funciona:\n",
        "        sucesso += 1\n",
        "# Calcula a probabilidade estimada\n",
        "probabilidade_estimada = sucesso/ num_simulacoes\n",
        "\n",
        "print(probabilidade_estimada)"
      ],
      "metadata": {
        "colab": {
          "base_uri": "https://localhost:8080/",
          "height": 0
        },
        "id": "LN6W_sv4c1lC",
        "outputId": "ccefb904-b4fc-44b5-8992-d22a1855f9fc"
      },
      "execution_count": 182,
      "outputs": [
        {
          "output_type": "stream",
          "name": "stdout",
          "text": [
            "0.12999\n"
          ]
        }
      ]
    },
    {
      "cell_type": "markdown",
      "source": [
        "#Questão 5"
      ],
      "metadata": {
        "id": "Ge5-I4YUNIkH"
      }
    },
    {
      "cell_type": "markdown",
      "source": [
        "Dentre 5 números positivos e 9 negativos, escolhem-se ao acaso 4 números (sem reposição) e multiplicam-se esses números.\n",
        "* (a) Qual será a probabilidade de que o produto seja um número positivo? R. 0,4905.\n",
        "* (b) Resolver essa questão usando Simulação Monte Carlo."
      ],
      "metadata": {
        "id": "3-IolMw5NKfs"
      }
    },
    {
      "cell_type": "code",
      "source": [
        "#a\n",
        "t = 14\n",
        "p = 5\n",
        "n = 9\n",
        "p1 = ((5/14)*(4/13)*(3/12)*((2/11)))\n",
        "p1*100"
      ],
      "metadata": {
        "colab": {
          "base_uri": "https://localhost:8080/",
          "height": 0
        },
        "id": "qxLA41FCNWbZ",
        "outputId": "11a03aa9-4fd3-43eb-c258-f0ddf133fc1d"
      },
      "execution_count": 183,
      "outputs": [
        {
          "output_type": "execute_result",
          "data": {
            "text/plain": [
              "0.4995004995004996"
            ]
          },
          "metadata": {},
          "execution_count": 183
        }
      ]
    },
    {
      "cell_type": "code",
      "source": [
        "#b\n",
        "\n",
        "import random\n",
        "\n",
        "# Número de simulações\n",
        "num_simulacoes = 10**5\n",
        "\n",
        "# Contadores para resultados positivos e negativos\n",
        "positivos = 0\n",
        "\n",
        "# Simulação de Monte Carlo\n",
        "for _ in range(num_simulacoes):\n",
        "  # Lista representando os números positivos e negativos\n",
        "  numeros = [1] * 5 + [-1] * 9\n",
        "\n",
        "  # Escolhe 4 números aleatoriamente sem reposição\n",
        "  escolhidos = random.sample(numeros, 4)\n",
        "\n",
        "  # Calcula o produto dos números escolhidos\n",
        "  produto = 1\n",
        "  for numero in escolhidos:\n",
        "    produto *= numero\n",
        "\n",
        "  # Incrementa o contador de positivos se o produto for positivo\n",
        "  if produto > 0:\n",
        "    positivos += 1\n",
        "\n",
        "# Calcula a probabilidade estimada\n",
        "probabilidade_estimada = positivos / num_simulacoes\n",
        "\n",
        "print(probabilidade_estimada)\n"
      ],
      "metadata": {
        "colab": {
          "base_uri": "https://localhost:8080/",
          "height": 0
        },
        "id": "zWiTq_edx4em",
        "outputId": "1e543059-a4e8-41b6-f48e-a0a4cabfa63d"
      },
      "execution_count": 184,
      "outputs": [
        {
          "output_type": "stream",
          "name": "stdout",
          "text": [
            "0.48916\n"
          ]
        }
      ]
    },
    {
      "cell_type": "markdown",
      "source": [
        "#Questão 6"
      ],
      "metadata": {
        "id": "Kt4x08u70SfR"
      }
    },
    {
      "cell_type": "markdown",
      "source": [
        "Um teste de sangue no laboratório é 95% efetivo para detectar uma certa doença quando, de fato, ela está presente. Contudo, o teste também pode fornecer um resultado ”falso positivo” para 1% das pessoas saudáveis testadas (isto é, se uma pessoa saudável é testada, então, com probabilidade 0,01, o resultado do teste implicará que ela possui a doença). Se 0,5% da população atualmente possui a doença:\n",
        "* (a) Qual a probabilidade de um teste indicar positivo? R. 0,0147\n",
        "* (b) Qual a probabilidade que uma pessoa esteja sauda ́vel quando o teste deu negativo? R.0,9997\n",
        "* (c) Qual a probabilidade que uma pessoa tenha a doenc ̧a dado que o resultado do seu teste  ́e positivo? R. 0,3231"
      ],
      "metadata": {
        "id": "GxQQZlc60UPH"
      }
    },
    {
      "cell_type": "code",
      "source": [
        "# a\n",
        "\n",
        "# Probabilidade de ter a doença\n",
        "p_doenca = 0.005\n",
        "\n",
        "# Probabilidade de teste positivo dado que tem a doença\n",
        "p_positivo_dado_doenca = 0.95\n",
        "\n",
        "# Probabilidade de não ter a doença\n",
        "p_nao_doenca = 1 - p_doenca\n",
        "\n",
        "# Probabilidade de teste positivo dado que não tem a doença (falso positivo)\n",
        "p_positivo_dado_nao_doenca = 0.01\n",
        "\n",
        "# Probabilidade de teste positivo (Teorema da Probabilidade Total)\n",
        "p_positivo = (p_doenca * p_positivo_dado_doenca) + (p_nao_doenca * p_positivo_dado_nao_doenca)\n",
        "\n",
        "print(p_positivo)\n"
      ],
      "metadata": {
        "colab": {
          "base_uri": "https://localhost:8080/",
          "height": 0
        },
        "id": "uL-oX3WK1iXB",
        "outputId": "c335168f-db9a-4e9b-b0b7-dac8ff3253d5"
      },
      "execution_count": 185,
      "outputs": [
        {
          "output_type": "stream",
          "name": "stdout",
          "text": [
            "0.014700000000000001\n"
          ]
        }
      ]
    },
    {
      "cell_type": "code",
      "source": [
        "#b\n",
        "#Pessoa saudável testada\n",
        "p_nao_doenca_testada = 0.01\n",
        "p_doenca_testada = 1 - p_nao_doenca_testada\n",
        "print(p_doenca_testada)\n",
        "\n",
        "\n"
      ],
      "metadata": {
        "colab": {
          "base_uri": "https://localhost:8080/",
          "height": 0
        },
        "id": "OV6WOEFP0yjV",
        "outputId": "6e8aa4da-5a4a-4131-9cea-4dc407706c5c"
      },
      "execution_count": 186,
      "outputs": [
        {
          "output_type": "stream",
          "name": "stdout",
          "text": [
            "0.99\n"
          ]
        }
      ]
    },
    {
      "cell_type": "code",
      "source": [
        "#c\n",
        "#Pessoa doente\n",
        "p_doenca\n",
        "#Probabilidade teste positivo\n",
        "p_positivo_dado_doenca\n",
        "#Probabilidade pessoa doente\n",
        "p_doenca_dado_positivo = p_doenca * p_positivo_dado_doenca / p_positivo\n",
        "print(p_doenca_dado_positivo)"
      ],
      "metadata": {
        "colab": {
          "base_uri": "https://localhost:8080/",
          "height": 0
        },
        "id": "vVoYywMT7vyV",
        "outputId": "ec0ad2b0-4ac3-4118-b588-a1b352e27392"
      },
      "execution_count": 187,
      "outputs": [
        {
          "output_type": "stream",
          "name": "stdout",
          "text": [
            "0.32312925170068024\n"
          ]
        }
      ]
    },
    {
      "cell_type": "markdown",
      "source": [
        "#Questão 7"
      ],
      "metadata": {
        "id": "wSEQ5_n88Ryz"
      }
    },
    {
      "cell_type": "markdown",
      "source": [
        "Em uma caixa há 4 dados, sendo 2 deles não viciados, um deles viciado com probabilidade 0,75 de mostrar face par e o outro que mostra face par, 100% das vezes em que é jogado. Ao escolher, de forma aleatória, um dado desta caixa, uma pessoa o lançaa duas vezes, obtendo 2 resultados pares. Determine a chance de ter sido escolhido um dado não viciado. R. 8/33"
      ],
      "metadata": {
        "id": "C0q_1GLU8VPf"
      }
    },
    {
      "cell_type": "code",
      "source": [
        "#Probabilidades iniciais\n",
        "p_nao_viciado = 2/4\n",
        "p_viciado_75 = 1/4\n",
        "p_viciado_100 = 1/4\n",
        "\n",
        "#Probabilidade parese para cada dado\n",
        "p_dois_pares_dado_nao_viciado = (1/2)**2\n",
        "p_dois_pares_dado_viciado_75 = 0.75**2\n",
        "p_dois_pares_dado_viciado_100 = 1**2\n",
        "\n",
        "#Probabilidade de dois pares\n",
        "p_dois_pares = (p_nao_viciado * p_dois_pares_dado_nao_viciado + p_viciado_75 * p_dois_pares_dado_viciado_75 + p_viciado_100 * p_dois_pares_dado_viciado_100)\n",
        "\n",
        "#Probabilidade de não viciado dado dois pares\n",
        "p_nao_viciado_dado_dois_pares = (p_nao_viciado * p_dois_pares_dado_nao_viciado) / p_dois_pares\n",
        "\n",
        "print(p_nao_viciado_dado_dois_pares)"
      ],
      "metadata": {
        "colab": {
          "base_uri": "https://localhost:8080/",
          "height": 0
        },
        "id": "othRalMm8gjx",
        "outputId": "91317b51-e3e7-4a25-b77d-8676fe0da742"
      },
      "execution_count": 188,
      "outputs": [
        {
          "output_type": "stream",
          "name": "stdout",
          "text": [
            "0.24242424242424243\n"
          ]
        }
      ]
    },
    {
      "cell_type": "markdown",
      "source": [
        "#Quetão 8"
      ],
      "metadata": {
        "id": "5atawVd6982k"
      }
    },
    {
      "cell_type": "markdown",
      "source": [
        "Considere que X seja uma variaável aleatória uniforme entre 100 e 150. Utilize simulação Monte Carlo para calcular:\n",
        "* (a) P(X > 120).\n",
        "* (b) P(82 < X < 135).\n",
        "* (c) Considere Y = 3X + 50. Calcule P (380 < Y < 480).\n",
        "* (d) Considere W = X2 − 50X. Calcule P(W < 10000)."
      ],
      "metadata": {
        "id": "CFGbZhuu9-Zu"
      }
    },
    {
      "cell_type": "code",
      "source": [
        "#a P(X > 120)\n",
        "import random\n",
        "\n",
        "# Número de simulações\n",
        "num_simulacoes = 10**5\n",
        "\n",
        "# Vezes em que x>120\n",
        "positivo = 0\n",
        "\n",
        "# Simulação de Monte Carlo\n",
        "for _ in range(num_simulacoes):\n",
        "  # Valor de X\n",
        "  x = random.randint(100,150)\n",
        "\n",
        "\n",
        "  # Incrementa o contador de positivos se x>120 for positivo\n",
        "  if(x > 120):\n",
        "    positivo += 1\n",
        "\n",
        "# Calcula a probabilidade estimada\n",
        "probabilidade_estimada = positivo / num_simulacoes\n",
        "print(probabilidade_estimada)"
      ],
      "metadata": {
        "colab": {
          "base_uri": "https://localhost:8080/",
          "height": 0
        },
        "id": "TJnW5MMT-O7v",
        "outputId": "f608793f-d3e1-4713-9520-ac224d59b4fe"
      },
      "execution_count": 189,
      "outputs": [
        {
          "output_type": "stream",
          "name": "stdout",
          "text": [
            "0.58521\n"
          ]
        }
      ]
    },
    {
      "cell_type": "code",
      "source": [
        "#b P(82 < X < 135) (Sempre vai ser maior que 82)\n",
        "import random\n",
        "\n",
        "# Número de simulações\n",
        "num_simulacoes = 10**5\n",
        "\n",
        "# Vezes em que x está no intervalo definido\n",
        "positivo = 0\n",
        "\n",
        "\n",
        "# Simulação de Monte Carlo\n",
        "for _ in range(num_simulacoes):\n",
        "  # Valor de X\n",
        "  x = random.randint(100,150)\n",
        "\n",
        "  #  #X deve estar neste intervalo\n",
        "  if( 82 < x < 135):\n",
        "    positivo += 1\n",
        "\n",
        "\n",
        "# Calcula a probabilidade estimada\n",
        "probabilidade_estimada = positivo / num_simulacoes\n",
        "print(probabilidade_estimada)"
      ],
      "metadata": {
        "colab": {
          "base_uri": "https://localhost:8080/",
          "height": 0
        },
        "id": "cps_OPDICQJU",
        "outputId": "8650c33b-8bd6-4a31-f4fa-e4351e8d90d3"
      },
      "execution_count": 190,
      "outputs": [
        {
          "output_type": "stream",
          "name": "stdout",
          "text": [
            "0.68382\n"
          ]
        }
      ]
    },
    {
      "cell_type": "code",
      "source": [
        "#c Y = 3X + 50. Calcule P (380 < Y < 480)\n",
        "\n",
        "\n",
        "# Número de simulações\n",
        "num_simulacoes = 10**5\n",
        "\n",
        "\n",
        "\n",
        "# Vezes em que (380 < Y < 480)\n",
        "positivo = 0\n",
        "\n",
        "\n",
        "# Simulação de Monte Carlo\n",
        "for _ in range(num_simulacoes):\n",
        "  # Valor de X\n",
        "  x = random.randint(100,150)\n",
        "\n",
        "  #Valor de y\n",
        "  y = 3*x + 50\n",
        "\n",
        "  # 380<y<480\n",
        "  if( 380<y<480):\n",
        "    positivo += 1\n",
        "\n",
        "\n",
        "# Calcula a probabilidade estimada\n",
        "probabilidade_estimada = positivo / num_simulacoes\n",
        "print(probabilidade_estimada)"
      ],
      "metadata": {
        "colab": {
          "base_uri": "https://localhost:8080/",
          "height": 0
        },
        "id": "GM2RrEbKEx8m",
        "outputId": "8060e385-0e56-48f9-8553-311b8ad7c048"
      },
      "execution_count": 191,
      "outputs": [
        {
          "output_type": "stream",
          "name": "stdout",
          "text": [
            "0.64659\n"
          ]
        }
      ]
    },
    {
      "cell_type": "code",
      "source": [
        "#d W = X2 − 50X. Calcule P(W < 10000)\n",
        "\n",
        "\n",
        "# Número de simulações\n",
        "num_simulacoes = 10**5\n",
        "\n",
        "# Vezes em que (W < 10000)\n",
        "positivo = 0\n",
        "\n",
        "\n",
        "# Simulação de Monte Carlo\n",
        "for _ in range(num_simulacoes):\n",
        "  # Valor de X\n",
        "  x = random.randint(100,150)\n",
        "\n",
        "  #Valor de w\n",
        "  w = x**2 - 50*x\n",
        "\n",
        "  # W < 10000\n",
        "  if(  w < 10000):\n",
        "    positivo += 1\n",
        "\n",
        "\n",
        "# Calcula a probabilidade estimada\n",
        "probabilidade_estimada = positivo / num_simulacoes\n",
        "print(probabilidade_estimada)"
      ],
      "metadata": {
        "colab": {
          "base_uri": "https://localhost:8080/",
          "height": 0
        },
        "id": "F10AgfudHs7d",
        "outputId": "9fe4d389-3dee-4a84-c16c-db9f1d07c81b"
      },
      "execution_count": 192,
      "outputs": [
        {
          "output_type": "stream",
          "name": "stdout",
          "text": [
            "0.57088\n"
          ]
        }
      ]
    },
    {
      "cell_type": "markdown",
      "source": [
        "#Questão 9"
      ],
      "metadata": {
        "id": "BX3qgG0qLo8F"
      }
    },
    {
      "cell_type": "markdown",
      "source": [
        "Considere X como sendo a soma dos resultados obtidos do lançamento simultâneo de 4 dados honestos. Usando Simulação Monte Carlo, determine:\n",
        "* (a) P(X > 20).\n",
        "* (b) P(8 < X < 15).\n",
        "* (c) Considere Y = 4X2 − 3X. Calcule P(Y < 540)."
      ],
      "metadata": {
        "id": "ZMIzpYZhLsd4"
      }
    },
    {
      "cell_type": "code",
      "source": [
        "#a X > 20\n",
        "\n",
        "# Número de simulações\n",
        "num_simulacoes = 10**5\n",
        "\n",
        "# Contadores para resultados positivos e negativos\n",
        "positivos = 0\n",
        "\n",
        "# Simulação de Monte Carlo\n",
        "for _ in range(num_simulacoes):\n",
        "  # Sorteio dos dados\n",
        "  dado1 = random.randint(1, 6)\n",
        "  dado2 = random.randint(1, 6)\n",
        "  dado3 = random.randint(1, 6)\n",
        "  dado4 = random.randint(1, 6)\n",
        "\n",
        "  # Soma dos dados\n",
        "  soma = dado1 + dado2 + dado3 + dado4\n",
        "\n",
        "  # Incrementa o contador de positivos se x>20 for positivo\n",
        "  if(soma > 20):\n",
        "    positivos += 1\n",
        "\n",
        "# Calcula a probabilidade estimada\n",
        "probabilidade_estimada = positivos / num_simulacoes\n",
        "\n",
        "print(probabilidade_estimada)"
      ],
      "metadata": {
        "colab": {
          "base_uri": "https://localhost:8080/",
          "height": 0
        },
        "id": "F5F_xXEgL3xc",
        "outputId": "d1b6a3ca-5036-4a41-dcdb-698709f692eb"
      },
      "execution_count": 193,
      "outputs": [
        {
          "output_type": "stream",
          "name": "stdout",
          "text": [
            "0.02685\n"
          ]
        }
      ]
    },
    {
      "cell_type": "code",
      "source": [
        "#b (8 < X < 15)\n",
        "# Número de simulações\n",
        "num_simulacoes = 10**5\n",
        "\n",
        "# Contadores para resultados positivos e negativos\n",
        "positivos = 0\n",
        "\n",
        "# Simulação de Monte Carlo\n",
        "for _ in range(num_simulacoes):\n",
        "  # Sorteio dos dados\n",
        "  dado1 = random.randint(1, 6)\n",
        "  dado2 = random.randint(1, 6)\n",
        "  dado3 = random.randint(1, 6)\n",
        "  dado4 = random.randint(1, 6)\n",
        "\n",
        "  # Soma dos dados\n",
        "  soma = dado1 + dado2 + dado3 + dado4\n",
        "\n",
        "\n",
        "  # Incrementa o contador de positivos se 8<x<15 for positivo\n",
        "  if(8 < soma) and (soma < 15):\n",
        "    positivos += 1\n",
        "\n",
        "\n",
        "# Calcula a probabilidade estimada\n",
        "probabilidade_estimada = positivos / num_simulacoes\n",
        "print(probabilidade_estimada)"
      ],
      "metadata": {
        "colab": {
          "base_uri": "https://localhost:8080/",
          "height": 0
        },
        "id": "sqtjOwtXLoCk",
        "outputId": "974605ea-5598-4acd-b8d2-3c1221134c6a"
      },
      "execution_count": 194,
      "outputs": [
        {
          "output_type": "stream",
          "name": "stdout",
          "text": [
            "0.50236\n"
          ]
        }
      ]
    },
    {
      "cell_type": "code",
      "source": [
        "#c Y = 4X2 − 3X. Calcule P(Y < 540)\n",
        "\n",
        "# Número de simulações\n",
        "num_simulacoes = 10**5\n",
        "\n",
        "# Contadores para resultados positivos e negativos\n",
        "positivos = 0\n",
        "\n",
        "# Simulação de Monte Carlo\n",
        "for _ in range(num_simulacoes):\n",
        "  # Sorteio dos dados\n",
        "  dado1 = random.randint(1, 6)\n",
        "  dado2 = random.randint(1, 6)\n",
        "  dado3 = random.randint(1, 6)\n",
        "  dado4 = random.randint(1, 6)\n",
        "\n",
        "  # Soma dos dados\n",
        "  soma = dado1 + dado2 + dado3 + dado4\n",
        "\n",
        "  #valor de y\n",
        "  y = 4*soma**2 - 3*soma\n",
        "\n",
        "\n",
        "  # Incrementa o contador de positivos se y<540 for positivo\n",
        "  if(y<540):\n",
        "    positivos += 1\n",
        "\n",
        "\n",
        "# Calcula a probabilidade estimada\n",
        "probabilidade_estimada = positivos / num_simulacoes\n",
        "print(probabilidade_estimada)"
      ],
      "metadata": {
        "colab": {
          "base_uri": "https://localhost:8080/",
          "height": 0
        },
        "id": "YZZ8FQ-vSaSa",
        "outputId": "691244b3-33f7-434e-8e40-0c93aedf37d3"
      },
      "execution_count": 195,
      "outputs": [
        {
          "output_type": "stream",
          "name": "stdout",
          "text": [
            "0.23786\n"
          ]
        }
      ]
    },
    {
      "cell_type": "markdown",
      "source": [
        "#Questão 10"
      ],
      "metadata": {
        "id": "cyBprLzyTHps"
      }
    },
    {
      "cell_type": "markdown",
      "source": [
        "Um paciente vai passar por uma junta médica formada por 3 especialistas. O tempo de atendimento do primeiro especialista é um valor aleatório entre 10 e 16 minutos. O tempo do segundo especialista já é algo entre 5 e 11 minutos e o terceiro entre 8 e 15 minutos. Seja T, o tempo total do paciente após passar pela junta médica. Admitindo que assim que o paciente chega na junta ele já começa a ser atendido e que entre duas especialidades qualquer o paciente espera 5 minutos exatos, usando simulação Monte Carlo, determine:\n",
        "* (a) P(T > 45).\n",
        "* (b) P(35 < X < 50).\n",
        "* (c) O tempo m ́edio de permanência na junta.\n",
        "* (d) O desvio padra ̃o do tempo de permanência na junta."
      ],
      "metadata": {
        "id": "Kt-zhwxuTJgA"
      }
    },
    {
      "cell_type": "code",
      "source": [
        "#a t>45\n",
        "\n",
        "# Número de simulações\n",
        "num_simulacoes = 10**5\n",
        "\n",
        "# Contadores para resultados positivos e negativos\n",
        "positivos = 0\n",
        "\n",
        "# Simulação de Monte Carlo\n",
        "for _ in range(num_simulacoes):\n",
        "  # Tempo de espera\n",
        "  tempo_medico_1 = random.randint(10, 16)\n",
        "  tempo_medico_2 = random.randint(5, 11)\n",
        "  tempo_medico_3 = random.randint(8, 15)\n",
        "  intervalo = 5\n",
        "\n",
        "  # Tempo de atendimento\n",
        "  tempo_total = tempo_medico_1 + tempo_medico_2 + tempo_medico_3 + intervalo*2\n",
        "\n",
        "\n",
        "  # Incrementa o contador de positivos se y<540 for positivo\n",
        "  if(tempo_total>45):\n",
        "    positivos += 1\n",
        "\n",
        "\n",
        "# Calcula a probabilidade estimada\n",
        "probabilidade_estimada = positivos / num_simulacoes\n",
        "print(probabilidade_estimada)"
      ],
      "metadata": {
        "colab": {
          "base_uri": "https://localhost:8080/",
          "height": 0
        },
        "id": "zcpEG6RuTjaN",
        "outputId": "0787d4c4-dc0b-4140-b949-bcc817e817d0"
      },
      "execution_count": 196,
      "outputs": [
        {
          "output_type": "stream",
          "name": "stdout",
          "text": [
            "0.21345\n"
          ]
        }
      ]
    },
    {
      "cell_type": "code",
      "source": [
        "#b 35 < X < 50\n",
        "\n",
        "# Número de simulações\n",
        "num_simulacoes = 10**5\n",
        "\n",
        "# Contadores para resultados positivos e negativos\n",
        "positivos = 0\n",
        "\n",
        "# Simulação de Monte Carlo\n",
        "for _ in range(num_simulacoes):\n",
        "  # Tempo de espera\n",
        "  tempo_medico_1 = random.randint(10, 16)\n",
        "  tempo_medico_2 = random.randint(5, 11)\n",
        "  tempo_medico_3 = random.randint(8, 15)\n",
        "  intervalo = 5\n",
        "\n",
        "  # Tempo de atendimento\n",
        "  tempo_total = tempo_medico_1 + tempo_medico_2 + tempo_medico_3 + intervalo*2\n",
        "\n",
        "\n",
        "  # Incrementa o contador de positivos se t>45 for positivo\n",
        "  if(35 < tempo_total < 50):\n",
        "    positivos += 1\n",
        "\n",
        "\n",
        "# Calcula a probabilidade estimada\n",
        "probabilidade_estimada = positivos / num_simulacoes\n",
        "print(probabilidade_estimada)"
      ],
      "metadata": {
        "colab": {
          "base_uri": "https://localhost:8080/",
          "height": 0
        },
        "id": "eziOgow2UvtO",
        "outputId": "ebf8b94f-b847-48ce-8432-e4d09823ad50"
      },
      "execution_count": 197,
      "outputs": [
        {
          "output_type": "stream",
          "name": "stdout",
          "text": [
            "0.94937\n"
          ]
        }
      ]
    },
    {
      "cell_type": "code",
      "source": [
        "# c tempo médio de atendimento\n",
        "# Número de simulações\n",
        "num_simulacoes = 10**5\n",
        "\n",
        "# Tempo médio\n",
        "tempo = 0\n",
        "\n",
        "# Simulação de Monte Carlo\n",
        "for _ in range(num_simulacoes):\n",
        "  # Tempo de espera\n",
        "  tempo_medico_1 = random.randint(10, 16)\n",
        "  tempo_medico_2 = random.randint(5, 11)\n",
        "  tempo_medico_3 = random.randint(8, 15)\n",
        "  intervalo = 5\n",
        "\n",
        "  # Tempo de atendimento\n",
        "  tempo_total = tempo_medico_1 + tempo_medico_2 + tempo_medico_3 + intervalo*2\n",
        "  tempo += tempo_total\n",
        "\n",
        "\n",
        "\n",
        "# Calcula a probabilidade estimada\n",
        "tempo_medio = tempo / num_simulacoes\n",
        "print(tempo_medio)"
      ],
      "metadata": {
        "colab": {
          "base_uri": "https://localhost:8080/",
          "height": 0
        },
        "id": "tHYG0-7GU9L8",
        "outputId": "f57b077a-be5f-403a-f850-52fe57e73b81"
      },
      "execution_count": 198,
      "outputs": [
        {
          "output_type": "stream",
          "name": "stdout",
          "text": [
            "42.50037\n"
          ]
        }
      ]
    },
    {
      "cell_type": "code",
      "source": [
        "#d Desvio padrao\n",
        "\n",
        "import numpy as np\n",
        "# Número de simulações\n",
        "num_simulacoes = 10**5\n",
        "\n",
        "# Tempos\n",
        "tempos_totais = []\n",
        "\n",
        "# Tempo médio\n",
        "tempo = 0\n",
        "\n",
        "# Simulação de Monte Carlo\n",
        "for _ in range(num_simulacoes):\n",
        "  # Tempo de espera\n",
        "  tempo_medico_1 = random.randint(10, 16)\n",
        "  tempo_medico_2 = random.randint(5, 11)\n",
        "  tempo_medico_3 = random.randint(8, 15)\n",
        "  intervalo = 5\n",
        "\n",
        "  # Tempo de atendimento\n",
        "  tempo_total = tempo_medico_1 + tempo_medico_2 + tempo_medico_3 + intervalo*2\n",
        "  tempos_totais.append(tempo_total)\n",
        "  tempo += tempo_total\n",
        "\n",
        "\n",
        "# Calcula a média do tempo\n",
        "tempo_medio = tempo / num_simulacoes\n",
        "\n",
        "#Calcula o desvio padrão\n",
        "desvio_padrao = np.std(tempos_totais)\n",
        "print(desvio_padrao)"
      ],
      "metadata": {
        "colab": {
          "base_uri": "https://localhost:8080/",
          "height": 0
        },
        "id": "sbawoKSOV4AS",
        "outputId": "9fa61fa7-4c14-4eec-ef15-e44a6e184adc"
      },
      "execution_count": 199,
      "outputs": [
        {
          "output_type": "stream",
          "name": "stdout",
          "text": [
            "3.637982193125745\n"
          ]
        }
      ]
    }
  ]
}